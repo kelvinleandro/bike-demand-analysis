{
 "cells": [
  {
   "cell_type": "markdown",
   "id": "8d93b6c4",
   "metadata": {},
   "source": [
    "# Análise Comparativa de Modelos"
   ]
  },
  {
   "cell_type": "markdown",
   "id": "29f2c5f9",
   "metadata": {
    "vscode": {
     "languageId": "plaintext"
    }
   },
   "source": [
    "## Bibliotecas"
   ]
  },
  {
   "cell_type": "code",
   "execution_count": 25,
   "id": "2fbe35ca",
   "metadata": {},
   "outputs": [],
   "source": [
    "import sys\n",
    "import os\n",
    "\n",
    "project_root = os.path.abspath(os.path.join(os.getcwd(), '..'))\n",
    "if project_root not in sys.path:\n",
    "    sys.path.append(project_root)"
   ]
  },
  {
   "cell_type": "code",
   "execution_count": 40,
   "id": "13a507f3",
   "metadata": {},
   "outputs": [],
   "source": [
    "import numpy as np\n",
    "import pandas as pd\n",
    "from sklearn.model_selection import TimeSeriesSplit\n",
    "\n",
    "from utils.date import get_season\n",
    "from utils.evaluation import evaluate_model"
   ]
  },
  {
   "cell_type": "markdown",
   "id": "f160d465",
   "metadata": {},
   "source": [
    "## Leitura dos dados"
   ]
  },
  {
   "cell_type": "code",
   "execution_count": 27,
   "id": "98623abf",
   "metadata": {},
   "outputs": [],
   "source": [
    "df_raw = pd.read_csv('../data/data.csv')\n",
    "df = df_raw.copy()"
   ]
  },
  {
   "cell_type": "markdown",
   "id": "cedae7c9",
   "metadata": {},
   "source": [
    "## Pré-processamento"
   ]
  },
  {
   "cell_type": "code",
   "execution_count": null,
   "id": "19e712a2",
   "metadata": {},
   "outputs": [],
   "source": [
    "df['dteday'] = pd.to_datetime(df['dteday'])\n",
    "\n",
    "# preenchendo dia da semana e mês com base na data\n",
    "df['weekday'] = df['dteday'].dt.dayofweek\n",
    "df['mnth'] = df['dteday'].dt.month\n",
    "\n",
    "# em season, preenche apenas as linhas que possue valores nulos\n",
    "df.loc[df['season'].isnull(), 'season'] = df.loc[df['season'].isnull(), 'dteday'].apply(get_season)\n",
    "\n",
    "cols_to_drop = ['instant', 'dteday', 'atemp', 'casual', 'registered']\n",
    "df.drop(columns=cols_to_drop, inplace=True)\n",
    "df.dropna(inplace=True)\n",
    "\n",
    "# transformando variavel alvo\n",
    "# df['cnt'] = np.log1p(df['cnt'])\n",
    "\n",
    "# Transformação das variáveis cíclicas usando seno e cosseno para preservar a periodicidade.\n",
    "# Isso faz com que valores próximos (tipo 23:00 e 00:00) tenham representações numéricas próximas\n",
    "df['hr_sin'] = np.sin(2 * np.pi * df['hr'] / 24)\n",
    "df['hr_cos'] = np.cos(2 * np.pi * df['hr'] / 24)\n",
    "df['mnth_sin'] = np.sin(2 * np.pi * df['mnth'] / 12)\n",
    "df['mnth_cos'] = np.cos(2 * np.pi * df['mnth'] / 12)\n",
    "\n",
    "# removendo as colunas originais que agora são redundantes\n",
    "df.drop(columns=['hr', 'mnth'], inplace=True)\n",
    "\n",
    "# transformando variáveis categóricas\n",
    "categorical_features = ['season', 'weekday', 'weathersit']\n",
    "df = pd.get_dummies(df, columns=categorical_features, drop_first=True)"
   ]
  },
  {
   "cell_type": "markdown",
   "id": "6a842085",
   "metadata": {},
   "source": [
    "## Divisão dos dados"
   ]
  },
  {
   "cell_type": "code",
   "execution_count": 35,
   "id": "023a6d37",
   "metadata": {},
   "outputs": [
    {
     "name": "stdout",
     "output_type": "stream",
     "text": [
      "Formato de X_train: (6676, 21)\n",
      "Formato de y_train: (6676,)\n",
      "Formato de X_test:  (6779, 21)\n",
      "Formato de y_test:  (6779,)\n"
     ]
    }
   ],
   "source": [
    "# Dividindo em treino e teste com base no tempo\n",
    "df_train = df[df['yr'] == 0]\n",
    "df_test = df[df['yr'] == 1]\n",
    "\n",
    "df_train = df_train.drop('yr', axis=1)\n",
    "df_test = df_test.drop('yr', axis=1)\n",
    "\n",
    "X_train = df_train.drop('cnt', axis=1)\n",
    "y_train = df_train['cnt']\n",
    "\n",
    "X_test = df_test.drop('cnt', axis=1)\n",
    "y_test = df_test['cnt']\n",
    "\n",
    "print(f\"Formato de X_train: {X_train.shape}\")\n",
    "print(f\"Formato de y_train: {y_train.shape}\")\n",
    "print(f\"Formato de X_test:  {X_test.shape}\")\n",
    "print(f\"Formato de y_test:  {y_test.shape}\")"
   ]
  },
  {
   "cell_type": "code",
   "execution_count": 39,
   "id": "f35358ec",
   "metadata": {},
   "outputs": [
    {
     "name": "stdout",
     "output_type": "stream",
     "text": [
      "\n",
      "Fold 1:\n",
      "  - Dados de Treino:   índices de 0 a 1115 (Tamanho: 1116)\n",
      "  - Dados de Validação: índices de 1116 a 2227 (Tamanho: 1112)\n",
      "\n",
      "Fold 2:\n",
      "  - Dados de Treino:   índices de 0 a 2227 (Tamanho: 2228)\n",
      "  - Dados de Validação: índices de 2228 a 3339 (Tamanho: 1112)\n",
      "\n",
      "Fold 3:\n",
      "  - Dados de Treino:   índices de 0 a 3339 (Tamanho: 3340)\n",
      "  - Dados de Validação: índices de 3340 a 4451 (Tamanho: 1112)\n",
      "\n",
      "Fold 4:\n",
      "  - Dados de Treino:   índices de 0 a 4451 (Tamanho: 4452)\n",
      "  - Dados de Validação: índices de 4452 a 5563 (Tamanho: 1112)\n",
      "\n",
      "Fold 5:\n",
      "  - Dados de Treino:   índices de 0 a 5563 (Tamanho: 5564)\n",
      "  - Dados de Validação: índices de 5564 a 6675 (Tamanho: 1112)\n"
     ]
    }
   ],
   "source": [
    "tscv = TimeSeriesSplit(n_splits=5)\n",
    "\n",
    "fold_counter = 1\n",
    "for train_indices, val_indices in tscv.split(X_train):\n",
    "    print(f\"\\nFold {fold_counter}:\")\n",
    "    print(f\"  - Dados de Treino:   índices de {train_indices.min()} a {train_indices.max()} (Tamanho: {len(train_indices)})\")\n",
    "    print(f\"  - Dados de Validação: índices de {val_indices.min()} a {val_indices.max()} (Tamanho: {len(val_indices)})\")\n",
    "    fold_counter += 1"
   ]
  }
 ],
 "metadata": {
  "kernelspec": {
   "display_name": ".venv",
   "language": "python",
   "name": "python3"
  },
  "language_info": {
   "codemirror_mode": {
    "name": "ipython",
    "version": 3
   },
   "file_extension": ".py",
   "mimetype": "text/x-python",
   "name": "python",
   "nbconvert_exporter": "python",
   "pygments_lexer": "ipython3",
   "version": "3.11.4"
  }
 },
 "nbformat": 4,
 "nbformat_minor": 5
}
